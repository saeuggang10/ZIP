{
 "cells": [
  {
   "cell_type": "code",
   "execution_count": 14,
   "metadata": {},
   "outputs": [
    {
     "name": "stdout",
     "output_type": "stream",
     "text": [
      "[<item><baseDatetime>20240531165500</baseDatetime><suppAbility>79628.4</suppAbility><currPwrTot>64840.3</currPwrTot><forecastLoad>67200.0</forecastLoad><suppReservePwr>14379.2</suppReservePwr><suppReserveRate>22.0374</suppReserveRate><operReservePwr>11892.0</operReservePwr><operReserveRate>18.2256</operReserveRate></item>]\n"
     ]
    }
   ],
   "source": [
    "from bs4 import BeautifulSoup as bs\n",
    "import requests\n",
    "import json\n",
    "import numpy as np\n",
    "import pandas as pd\n",
    "\n",
    "### Request\n",
    "url = 'https://openapi.kpx.or.kr/openapi/sukub5mMaxDatetime/getSukub5mMaxDatetime'\n",
    "params ={'serviceKey' : '서비스키', 'pageNo' : '1', 'numOfRows' : '1000', 'staRegDate' : '2015-01-01', 'endRegDate' : '2016-12-31', 'bidvCd' : 'I', 'patAlias' : '멀티미디어', 'summary' : '경혈표시장치', 'appFld' : '의료용 골 시멘트', 'patNo' : '1020050057115', 'patPrsn' : '삼성전자주식회사', 'trustYear' : '2015', 'tab' : '3', 'orgGubun' : '6', 'trustSeq' : '38' }\n",
    "params['serviceKey'] = 'your_d_key'\n",
    "\n",
    "response = requests.get(url, params=params)\n",
    "contents = response.text\n",
    "\n",
    "soup = bs(contents, 'xml')\n",
    "# print(soup)\n",
    "### Approve check\n",
    "con = soup.find_all('resultCode')[0].string\n",
    "print(con)\n",
    "\n",
    "\n",
    "### data dict list\n",
    "items = soup.find_all('item')\n",
    "# print(items)\n",
    "\n",
    "\n",
    "### find tag name\n",
    "temp = items[0].find_all(True)\n",
    "tag_list = [val.name for val in temp]\n",
    "# print(tag_list)\n",
    "\n",
    "\n",
    "### to_DataFrame\n",
    "df = pd.DataFrame([np.zeros(len(tag_list))], columns=tag_list)\n",
    "i = 0\n",
    "for item in items:\n",
    "    temp = []\n",
    "    for tag in tag_list:\n",
    "        # temp.append(item.find(tag).get_text()) #파싱 안될 때\n",
    "        temp.append(item.find(tag).string)\n",
    "    df.loc[i] = temp\n",
    "    i += 1\n",
    "df"
   ]
  },
  {
   "cell_type": "code",
   "execution_count": 68,
   "metadata": {},
   "outputs": [
    {
     "data": {
      "text/plain": [
       "'ʕ； •`ᴥ•´ʔ / Error_99 : SERVICE KEY IS NOT REGISTERED ERROR.'"
      ]
     },
     "execution_count": 68,
     "metadata": {},
     "output_type": "execute_result"
    }
   ],
   "source": [
    "#------------------------------------------------------------------------------------------------#\n",
    "#def---------------------------------------------------------------------------------------------#\n",
    "#------------------------------------------------------------------------------------------------#\n",
    "\n",
    "from bs4 import BeautifulSoup as bs\n",
    "import requests\n",
    "import json\n",
    "import numpy as np\n",
    "import pandas as pd\n",
    "\n",
    "url = 'http://211.188.64.69/OpenAPI/service/tech/patentall'\n",
    "params ={'serviceKey' : '서비스키', 'pageNo' : '1', 'numOfRows' : '1000', 'staRegDate' : '2015-01-01', 'endRegDate' : '2016-12-31', 'bidvCd' : 'I', 'patAlias' : '멀티미디어', 'summary' : '경혈표시장치', 'appFld' : '의료용 골 시멘트', 'patNo' : '1020050057115', 'patPrsn' : '삼성전자주식회사', 'trustYear' : '2015', 'tab' : '3', 'orgGubun' : '6', 'trustSeq' : '38' }\n",
    "params['serviceKey'] = 'your_d_key'\n",
    "\n",
    "\n",
    "def oepnapi(url, params, d_type='xml'):\n",
    "    response = requests.get(url, params=params)\n",
    "    contents = response.text\n",
    "\n",
    "    soup = bs(contents, d_type)\n",
    "    # print(soup)\n",
    "    \n",
    "    ### Approve Check\n",
    "    con = soup.find_all('resultCode')[0].string\n",
    "    if con != '00': \n",
    "        msg = soup.find_all('resultMsg')[0].string\n",
    "        return f'ʕ； •`ᴥ•´ʔ / Error_{con} : {msg}'\n",
    "\n",
    "    ### data dict list\n",
    "    items = soup.find_all('item')\n",
    "    # print(items)\n",
    "\n",
    "    ### find tag name\n",
    "    temp = items[0].find_all(True)\n",
    "    tag_list = [val.name for val in temp]\n",
    "    # print(tag_list)\n",
    "\n",
    "    ### to_DataFrame\n",
    "    df = pd.DataFrame([np.zeros(len(tag_list))], columns=tag_list)\n",
    "    i = 0\n",
    "    for item in items:\n",
    "        temp = []\n",
    "        for tag in tag_list:\n",
    "            # temp.append(item.find(tag).get_text()) #파싱 안될 때\n",
    "            temp.append(item.find(tag).string)\n",
    "        df.loc[i] = temp\n",
    "        i += 1\n",
    "        \n",
    "    return df\n",
    "\n",
    "df = oepnapi(url, params, 'xml')\n",
    "df"
   ]
  },
  {
   "cell_type": "code",
   "execution_count": null,
   "metadata": {},
   "outputs": [],
   "source": []
  }
 ],
 "metadata": {
  "kernelspec": {
   "display_name": "base",
   "language": "python",
   "name": "python3"
  },
  "language_info": {
   "codemirror_mode": {
    "name": "ipython",
    "version": 3
   },
   "file_extension": ".py",
   "mimetype": "text/x-python",
   "name": "python",
   "nbconvert_exporter": "python",
   "pygments_lexer": "ipython3",
   "version": "3.11.5"
  }
 },
 "nbformat": 4,
 "nbformat_minor": 2
}
